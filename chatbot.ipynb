{
 "cells": [
  {
   "cell_type": "code",
   "execution_count": 3,
   "id": "2c2c9ca2",
   "metadata": {},
   "outputs": [],
   "source": [
    "from tkinter import *\n",
    "import nltk\n",
    "from nltk.chat.util import Chat, reflections\n"
   ]
  },
  {
   "cell_type": "code",
   "execution_count": 4,
   "id": "22a020ad",
   "metadata": {},
   "outputs": [
    {
     "data": {
      "text/plain": [
       "''"
      ]
     },
     "execution_count": 4,
     "metadata": {},
     "output_type": "execute_result"
    }
   ],
   "source": [
    "root = Tk()\n",
    "root.title(\"Chatbot\")"
   ]
  },
  {
   "cell_type": "code",
   "execution_count": 6,
   "id": "a0460671",
   "metadata": {},
   "outputs": [],
   "source": [
    "def send():\n",
    "    send = \"You -> \" + e.get()\n",
    "    txt.insert(END, \"\\n\" + send)\n",
    "    user = e.get().lower()\n",
    "    \n",
    "    # Define the chatbot responses based on user input\n",
    "    if user == \"hello\":\n",
    "        txt.insert(END, \"\\n\" + \"Bot -> Hi\")\n",
    "    elif user == \"hi\" or user == \"hii\" or user == \"hiiii\":\n",
    "        txt.insert(END, \"\\n\" + \"Bot -> Hello\")\n",
    "    elif e.get() == \"how are you\":\n",
    "        txt.insert(END, \"\\n\" + \"Bot -> Fine! And you?\")\n",
    "    elif user == \"fine\" or user == \"i am good\" or user == \"i am doing good\":\n",
    "        txt.insert(END, \"\\n\" + \"Bot -> Great! How can I help you?\")\n",
    "    else:\n",
    "        txt.insert(END, \"\\n\" + \"Bot -> Sorry! I didn't understand.\")\n",
    "    e.delete(0, END)"
   ]
  },
  {
   "cell_type": "code",
   "execution_count": null,
   "id": "e3e91680",
   "metadata": {},
   "outputs": [],
   "source": [
    "txt = Text(root)\n",
    "txt.grid(row=0, column=0, columnspan=2)"
   ]
  },
  {
   "cell_type": "code",
   "execution_count": null,
   "id": "26d46a5f",
   "metadata": {},
   "outputs": [],
   "source": [
    "e = Entry(root, width=100)\n",
    "e.grid(row=1, column=0)\n",
    "\n",
    "# Create the send button\n",
    "send = Button(root, text=\"Send\", command=send).grid(row=1, column=1)\n",
    "\n",
    "# Start the main event loop\n",
    "root.mainloop()"
   ]
  }
 ],
 "metadata": {
  "kernelspec": {
   "display_name": "Python 3",
   "language": "python",
   "name": "python3"
  },
  "language_info": {
   "codemirror_mode": {
    "name": "ipython",
    "version": 3
   },
   "file_extension": ".py",
   "mimetype": "text/x-python",
   "name": "python",
   "nbconvert_exporter": "python",
   "pygments_lexer": "ipython3",
   "version": "3.11.4"
  }
 },
 "nbformat": 4,
 "nbformat_minor": 5
}
