{
 "cells": [
  {
   "cell_type": "code",
   "execution_count": 1,
   "id": "2c2c9ca2",
   "metadata": {},
   "outputs": [],
   "source": [
    "from tkinter import *\n",
    "import nltk\n",
    "from nltk.chat.util import Chat, reflections\n"
   ]
  },
  {
   "cell_type": "code",
   "execution_count": 2,
   "id": "eab08e0c",
   "metadata": {},
   "outputs": [
    {
     "ename": "IndentationError",
     "evalue": "expected an indented block after function definition on line 4 (1075521810.py, line 6)",
     "output_type": "error",
     "traceback": [
      "\u001b[1;36m  Cell \u001b[1;32mIn[2], line 6\u001b[1;36m\u001b[0m\n\u001b[1;33m    send = \"You -> \" + e.get() txt.insert(END, \"\\n\" + send) user = e.get().lower()\u001b[0m\n\u001b[1;37m    ^\u001b[0m\n\u001b[1;31mIndentationError\u001b[0m\u001b[1;31m:\u001b[0m expected an indented block after function definition on line 4\n"
     ]
    }
   ],
   "source": [
    "root = Tk()\n",
    "\n",
    "root.title(\"Chatbot\")\n",
    "def send():\n",
    "  \n",
    "\n"
   ]
  }
 ],
 "metadata": {
  "kernelspec": {
   "display_name": "Python 3",
   "language": "python",
   "name": "python3"
  },
  "language_info": {
   "codemirror_mode": {
    "name": "ipython",
    "version": 3
   },
   "file_extension": ".py",
   "mimetype": "text/x-python",
   "name": "python",
   "nbconvert_exporter": "python",
   "pygments_lexer": "ipython3",
   "version": "3.11.4"
  }
 },
 "nbformat": 4,
 "nbformat_minor": 5
}
